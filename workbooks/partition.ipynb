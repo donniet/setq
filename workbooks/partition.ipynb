{
 "cells": [
  {
   "cell_type": "code",
   "execution_count": 27,
   "metadata": {},
   "outputs": [],
   "source": [
    "import math\n"
   ]
  },
  {
   "cell_type": "code",
   "execution_count": 28,
   "metadata": {},
   "outputs": [],
   "source": [
    "def binomial(n,k):\n",
    "    return math.gamma(n+1) / math.gamma(k+1) / math.gamma(n-k+1)\n",
    "    "
   ]
  },
  {
   "cell_type": "code",
   "execution_count": 33,
   "metadata": {},
   "outputs": [
    {
     "name": "stdout",
     "output_type": "stream",
     "text": [
      "462.0 1.0\n",
      "probability: 1.0/462.0 = 0.0021645021645021645\n"
     ]
    }
   ],
   "source": [
    "seq = 'ababababababab'\n",
    "a_count = 5\n",
    "b_count = 5\n",
    "ab_count = 5\n",
    "\n",
    "# number of sequences with the symbol counts above\n",
    "total_seq = binomial(a_count + b_count + 1, a_count)\n",
    "\n",
    "# number of sequences with the symbol and transition counts above\n",
    "total_trans_seq = binomial(ab_count + 1, a_count - ab_count) * \\\n",
    "                  binomial(ab_count + 1, b_count - ab_count)\n",
    "\n",
    "\n",
    "print(total_seq, total_trans_seq)\n",
    "print(f\"probability: {total_trans_seq}/{total_seq} = {total_trans_seq/total_seq}\")"
   ]
  }
 ],
 "metadata": {
  "kernelspec": {
   "display_name": "Python 3",
   "language": "python",
   "name": "python3"
  },
  "language_info": {
   "codemirror_mode": {
    "name": "ipython",
    "version": 3
   },
   "file_extension": ".py",
   "mimetype": "text/x-python",
   "name": "python",
   "nbconvert_exporter": "python",
   "pygments_lexer": "ipython3",
   "version": "3.12.1"
  }
 },
 "nbformat": 4,
 "nbformat_minor": 2
}
