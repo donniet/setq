{
 "cells": [
  {
   "cell_type": "code",
   "execution_count": 42,
   "metadata": {},
   "outputs": [],
   "source": [
    "import math\n"
   ]
  },
  {
   "cell_type": "code",
   "execution_count": 43,
   "metadata": {},
   "outputs": [],
   "source": [
    "def binomial(n,k):\n",
    "    return math.gamma(n+1) / math.gamma(k+1) / math.gamma(abs(n-k)+1)\n",
    "    \n",
    "def lbinomial(n,k):\n",
    "    return math.lgamma(n+1) - math.lgamma(k+1) - math.lgamma(abs(n-k)+1)\n",
    "    "
   ]
  },
  {
   "cell_type": "code",
   "execution_count": 44,
   "metadata": {},
   "outputs": [
    {
     "data": {
      "text/plain": [
       "6.0"
      ]
     },
     "execution_count": 44,
     "metadata": {},
     "output_type": "execute_result"
    }
   ],
   "source": [
    "binomial(4,2)\n",
    "# lbinomial(4,2)"
   ]
  },
  {
   "cell_type": "code",
   "execution_count": null,
   "metadata": {},
   "outputs": [],
   "source": []
  },
  {
   "cell_type": "code",
   "execution_count": 45,
   "metadata": {},
   "outputs": [],
   "source": [
    "seq = 'ababababababab'\n",
    "a_count = 10\n",
    "b_count = 10\n",
    "ab_count = 5\n",
    "\n",
    "\n",
    "def binomial_probability(a_count, b_count, ab_count):\n",
    "    # number of sequences with the symbol counts above\n",
    "    total_seq = lbinomial(a_count + b_count + 1, a_count)\n",
    "\n",
    "    # number of sequences with the symbol and transition counts above\n",
    "    total_trans_seq = lbinomial(ab_count + 1, a_count - ab_count) + \\\n",
    "                    lbinomial(ab_count + 1, b_count - ab_count)\n",
    "\n",
    "    return math.exp(total_trans_seq-total_seq)\n",
    "\n",
    "\n",
    "def sequence_likelihood_binomial_method(a_count, b_count, ab_count):\n",
    "    ret = 0\n",
    "    for i in range(ab_count, min(a_count,b_count)+1):\n",
    "        print(f\"bin({a_count},{b_count},{i})\")\n",
    "        ret += binomial_probability(a_count, b_count, i)\n",
    "\n",
    "    return ret\n",
    "    "
   ]
  },
  {
   "cell_type": "code",
   "execution_count": 46,
   "metadata": {},
   "outputs": [
    {
     "name": "stdout",
     "output_type": "stream",
     "text": [
      "bin(10,10,5)\n",
      "bin(10,10,6)\n",
      "bin(10,10,7)\n",
      "bin(10,10,8)\n",
      "bin(10,10,9)\n",
      "bin(10,10,10)\n"
     ]
    },
    {
     "data": {
      "text/plain": [
       "0.01642681364043593"
      ]
     },
     "execution_count": 46,
     "metadata": {},
     "output_type": "execute_result"
    }
   ],
   "source": [
    "sequence_likelihood_binomial_method(10,10,5)"
   ]
  },
  {
   "cell_type": "code",
   "execution_count": 47,
   "metadata": {},
   "outputs": [],
   "source": [
    "def sequence_likelihood(a, b, ab):\n",
    "    total = a + b\n",
    "    pa = a / total\n",
    "    pb = b / total\n",
    "    pab = pa * pb\n",
    "    exp = total * pab\n",
    "    var = total * pab * (1-pab)\n",
    "\n",
    "    x = (ab - exp) * 2/var\n",
    "\n",
    "    return 0.5 * math.erfc(x)"
   ]
  },
  {
   "cell_type": "code",
   "execution_count": 56,
   "metadata": {},
   "outputs": [
    {
     "data": {
      "text/plain": [
       "0.9536247358787824"
      ]
     },
     "execution_count": 56,
     "metadata": {},
     "output_type": "execute_result"
    }
   ],
   "source": [
    "## zero swapping\n",
    "# a       b       aa      ab\n",
    "# 94081, 905919,   8980,  85100\n",
    "# 275559, 724441,  76363, 199196\n",
    "# 164674, 835326,  26793, 137881\n",
    "# 454771, 545229, 207089, 247682\n",
    "\n",
    "## 0.5 swapping\n",
    "# a       b       aa      ab\n",
    "# 499675, 500325, 249302, 250372\n",
    "\n",
    "## 0.75 swapping\n",
    "# 320270, 679730, 107539, 212731\n",
    "\n",
    "\n",
    "sequence_likelihood(275559, 275559,  76363)\n",
    "\n"
   ]
  }
 ],
 "metadata": {
  "kernelspec": {
   "display_name": "Python 3",
   "language": "python",
   "name": "python3"
  },
  "language_info": {
   "codemirror_mode": {
    "name": "ipython",
    "version": 3
   },
   "file_extension": ".py",
   "mimetype": "text/x-python",
   "name": "python",
   "nbconvert_exporter": "python",
   "pygments_lexer": "ipython3",
   "version": "3.12.1"
  }
 },
 "nbformat": 4,
 "nbformat_minor": 2
}
